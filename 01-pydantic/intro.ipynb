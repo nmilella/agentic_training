{
 "cells": [
  {
   "cell_type": "code",
   "execution_count": null,
   "id": "b15d6625",
   "metadata": {},
   "outputs": [
    {
     "name": "stdout",
     "output_type": "stream",
     "text": [
      "2\n"
     ]
    }
   ],
   "source": [
    "print (1+1)\n",
    "print \"ciao\""
   ]
  }
 ],
 "metadata": {
  "kernelspec": {
   "display_name": "venv01",
   "language": "python",
   "name": "python3"
  },
  "language_info": {
   "codemirror_mode": {
    "name": "ipython",
    "version": 3
   },
   "file_extension": ".py",
   "mimetype": "text/x-python",
   "name": "python",
   "nbconvert_exporter": "python",
   "pygments_lexer": "ipython3",
   "version": "3.13.0"
  }
 },
 "nbformat": 4,
 "nbformat_minor": 5
}
