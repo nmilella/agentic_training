{
 "cells": [
  {
   "cell_type": "markdown",
   "id": "4ced6dbf",
   "metadata": {},
   "source": [
    "#### Pydantic Basics: Creating and Using Models\n",
    "Pydantic models are the foundation of data validation in Python. They use Python type annotations to define the structure and validate data at runtime. Here's a detailed exploration of basic model creation with several examples.\n",
    "\n"
   ]
  },
  {
   "cell_type": "code",
   "execution_count": 8,
   "id": "80961c42",
   "metadata": {},
   "outputs": [],
   "source": [
    "from pydantic import BaseModel"
   ]
  },
  {
   "cell_type": "code",
   "execution_count": 5,
   "id": "bc885294",
   "metadata": {},
   "outputs": [
    {
     "name": "stdout",
     "output_type": "stream",
     "text": [
      "name='Krish' age=45 city='Bangalore'\n"
     ]
    }
   ],
   "source": [
    "class Person1(BaseModel):\n",
    "    name:str\n",
    "    age:int\n",
    "    city:str\n",
    "\n",
    "person=Person1(name=\"Krish\",age=45,city=\"Bangalore\")\n",
    "print(person)"
   ]
  },
  {
   "cell_type": "markdown",
   "id": "23e5d0d3",
   "metadata": {},
   "source": [
    "#### 2. Model with Optional Fields\n",
    "Add optional fields using Python's Optional type:\n",
    "\n"
   ]
  },
  {
   "cell_type": "code",
   "execution_count": 6,
   "id": "a14e02b1",
   "metadata": {},
   "outputs": [],
   "source": [
    "from typing import Optional\n",
    "class Employee(BaseModel):\n",
    "    id: int\n",
    "    name: str\n",
    "    department: str\n",
    "    salary: Optional[float] = None  # Optional with default value\n",
    "    is_active: Optional[bool] = True  # Optional with default True"
   ]
  },
  {
   "cell_type": "code",
   "execution_count": 7,
   "id": "10280852",
   "metadata": {},
   "outputs": [
    {
     "name": "stdout",
     "output_type": "stream",
     "text": [
      "id=1 name='John' department='IT' salary=None is_active=True\n"
     ]
    }
   ],
   "source": [
    "# Examples with and without optional fields\n",
    "emp1 = Employee(id=1, name=\"John\", department=\"IT\")\n",
    "print(emp1)  # id=1 name='John' department='IT' salary=None is_active=True"
   ]
  }
 ],
 "metadata": {
  "kernelspec": {
   "display_name": "venv01",
   "language": "python",
   "name": "python3"
  },
  "language_info": {
   "codemirror_mode": {
    "name": "ipython",
    "version": 3
   },
   "file_extension": ".py",
   "mimetype": "text/x-python",
   "name": "python",
   "nbconvert_exporter": "python",
   "pygments_lexer": "ipython3",
   "version": "3.13.0"
  }
 },
 "nbformat": 4,
 "nbformat_minor": 5
}
